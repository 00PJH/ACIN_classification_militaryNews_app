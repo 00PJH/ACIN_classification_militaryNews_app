{
 "cells": [
  {
   "cell_type": "code",
   "execution_count": 1,
   "metadata": {},
   "outputs": [
    {
     "name": "stderr",
     "output_type": "stream",
     "text": [
      "/home/pjh/work-space/ACIN_classification_militaryNews_app/lib/python3.12/site-packages/tqdm/auto.py:21: TqdmWarning: IProgress not found. Please update jupyter and ipywidgets. See https://ipywidgets.readthedocs.io/en/stable/user_install.html\n",
      "  from .autonotebook import tqdm as notebook_tqdm\n",
      "You passed along `num_labels=3` with an incompatible id to label map: {'0': 'NEGATIVE', '1': 'POSITIVE'}. The number of labels wil be overwritten to 2.\n"
     ]
    }
   ],
   "source": [
    "import pandas as pd\n",
    "from datetime import datetime, date\n",
    "\n",
    "from transformers import BertTokenizer, BertForSequenceClassification\n",
    "from classification_title import load_csv_tokenizer, tokenize_encode, perform_inference, run\n",
    "from summary_text import newSum"
   ]
  },
  {
   "cell_type": "code",
   "execution_count": 2,
   "metadata": {},
   "outputs": [],
   "source": [
    "# 0. create file name\n",
    "def create_bk_news_data_name():\n",
    "    # 파일 이름 지정\n",
    "    today = date.today()\n",
    "    today_date = datetime.now().strftime(\"%Y%m%d\") \n",
    "    file_name = (\"NewsResult\" + \"_\" + today_date + \"-\" + today_date  + \".xlsx\")\n",
    "\n",
    "    input_file_path = '/home/pjh/Downloads/' + file_name\n",
    "\n",
    "    return input_file_path\n",
    "\n",
    "# 1. extract only title\n",
    "def extract_title_text_url(file_path):\n",
    "    # excel 파일 읽기\n",
    "    df = pd.read_excel(file_path)\n",
    "    # 제목 열만 추출\n",
    "    # df_titles_only = df[['제목']]\n",
    "    # df_titles_only = df_titles_only.rename(columns={'제목':'title'})\n",
    "    df_titles_texts_URL = df[['제목','본문','URL']]\n",
    "    df_titles_texts_URL = df_titles_texts_URL.rename(columns={'제목':'title'})\n",
    "    df_test = df_titles_texts_URL.head(50)\n",
    "    return df_test\n",
    "    # return df_titles_texts_URL\n",
    "\n",
    "# 2. classification titles\n",
    "def classificatin_titles(input_df):\n",
    "    prediction_titles = run(input_df)\n",
    "\n",
    "    return prediction_titles\n",
    "\n",
    "\n"
   ]
  },
  {
   "cell_type": "code",
   "execution_count": 3,
   "metadata": {},
   "outputs": [],
   "source": [
    "# 3. run module\n",
    "def result_data(input_data_path):\n",
    "    result_title = classificatin_titles(extract_title_text_url(input_data_path))\n",
    "\n",
    "    news_text_list = result_title['본문'].to_list()\n",
    "\n",
    "   \n",
    "     # 1부터 시작하여 총 개수까지 index 재배열\n",
    "    result_title.index = range(len(result_title))\n",
    "\n",
    "    for idx, e in enumerate(news_text_list):\n",
    "        result_title.at[idx, '본문'] = newSum(e)\n",
    "           \n",
    "\n",
    "    # return dataFrame object -> title, prediction\n",
    "    return result_title"
   ]
  },
  {
   "cell_type": "code",
   "execution_count": 4,
   "metadata": {},
   "outputs": [
    {
     "name": "stderr",
     "output_type": "stream",
     "text": [
      "/home/pjh/work-space/ACIN_classification_militaryNews_app/lib/python3.12/site-packages/openpyxl/styles/stylesheet.py:237: UserWarning: Workbook contains no default style, apply openpyxl's default\n",
      "  warn(\"Workbook contains no default style, apply openpyxl's default\")\n"
     ]
    },
    {
     "data": {
      "text/html": [
       "<div>\n",
       "<style scoped>\n",
       "    .dataframe tbody tr th:only-of-type {\n",
       "        vertical-align: middle;\n",
       "    }\n",
       "\n",
       "    .dataframe tbody tr th {\n",
       "        vertical-align: top;\n",
       "    }\n",
       "\n",
       "    .dataframe thead th {\n",
       "        text-align: right;\n",
       "    }\n",
       "</style>\n",
       "<table border=\"1\" class=\"dataframe\">\n",
       "  <thead>\n",
       "    <tr style=\"text-align: right;\">\n",
       "      <th></th>\n",
       "      <th>title</th>\n",
       "      <th>본문</th>\n",
       "      <th>URL</th>\n",
       "      <th>predictions</th>\n",
       "    </tr>\n",
       "  </thead>\n",
       "  <tbody>\n",
       "    <tr>\n",
       "      <th>0</th>\n",
       "      <td>해군교육사령부 전투무장학교 부사관 성금</td>\n",
       "      <td>진해 해군교육사령부 전투무장학교 부사관들이 새해를 맞아 이웃나눔을 실천했다. 무장학...</td>\n",
       "      <td>https://www.idomin.com/news/articleView.html?i...</td>\n",
       "      <td>1</td>\n",
       "    </tr>\n",
       "    <tr>\n",
       "      <th>1</th>\n",
       "      <td>군 검찰, 박정훈 대령 무죄에 항소 군인권센터 “항소는 범죄”</td>\n",
       "      <td>국방부 검찰단이 ‘채 상병 순직 사건’의 경찰 이첩 보류 명령을 따르지 않은 혐의 ...</td>\n",
       "      <td>http://www.hani.co.kr/arti/politics/defense/11...</td>\n",
       "      <td>1</td>\n",
       "    </tr>\n",
       "    <tr>\n",
       "      <th>2</th>\n",
       "      <td>대구시 “군부대 이전지 3월쯤 결정 예상”</td>\n",
       "      <td>대구 도심 군부대 통합 이전지가 3월쯤 결정될 것으로 전망된다. 대구시는 계엄 사태...</td>\n",
       "      <td>https://news.kbs.co.kr/news/view.do?ncd=815130...</td>\n",
       "      <td>1</td>\n",
       "    </tr>\n",
       "  </tbody>\n",
       "</table>\n",
       "</div>"
      ],
      "text/plain": [
       "                                title  \\\n",
       "0               해군교육사령부 전투무장학교 부사관 성금   \n",
       "1  군 검찰, 박정훈 대령 무죄에 항소 군인권센터 “항소는 범죄”   \n",
       "2             대구시 “군부대 이전지 3월쯤 결정 예상”   \n",
       "\n",
       "                                                  본문  \\\n",
       "0  진해 해군교육사령부 전투무장학교 부사관들이 새해를 맞아 이웃나눔을 실천했다. 무장학...   \n",
       "1  국방부 검찰단이 ‘채 상병 순직 사건’의 경찰 이첩 보류 명령을 따르지 않은 혐의 ...   \n",
       "2  대구 도심 군부대 통합 이전지가 3월쯤 결정될 것으로 전망된다. 대구시는 계엄 사태...   \n",
       "\n",
       "                                                 URL  predictions  \n",
       "0  https://www.idomin.com/news/articleView.html?i...            1  \n",
       "1  http://www.hani.co.kr/arti/politics/defense/11...            1  \n",
       "2  https://news.kbs.co.kr/news/view.do?ncd=815130...            1  "
      ]
     },
     "execution_count": 4,
     "metadata": {},
     "output_type": "execute_result"
    }
   ],
   "source": [
    "df = result_data(create_bk_news_data_name())\n",
    "df"
   ]
  },
  {
   "cell_type": "code",
   "execution_count": 9,
   "metadata": {},
   "outputs": [
    {
     "name": "stdout",
     "output_type": "stream",
     "text": [
      "대구 도심 군부대 통합 이전지가 3월쯤 결정될 것으로 전망된다. 대구시는 계엄 사태 이후 국방부의 예비후보지 선정 절차가 지연되고 있다며 실무 평가는 마무리된 만큼 발표할 것으로 안다고 밝혔다.     .     \n",
      "   ....    ...   ......    \n"
     ]
    }
   ],
   "source": [
    "print(df.loc[2, '본문'])"
   ]
  },
  {
   "cell_type": "code",
   "execution_count": 1,
   "metadata": {},
   "outputs": [
    {
     "name": "stdout",
     "output_type": "stream",
     "text": [
      "        본문\n",
      "0  새로운 내용1\n",
      "1  새로운 내용2\n",
      "2  새로운 내용3\n"
     ]
    }
   ],
   "source": [
    "import pandas as pd\n",
    "\n",
    "# 예제 DataFrame 생성\n",
    "data = {'본문': ['원래 내용1', '원래 내용2', '원래 내용3']}\n",
    "df = pd.DataFrame(data)\n",
    "\n",
    "# 업데이트할 내용이 담긴 리스트\n",
    "texts_list = [\"새로운 내용1\", \"새로운 내용2\", \"새로운 내용3\"]\n",
    "\n",
    "# 반복문을 사용하여 DataFrame의 \"본문\" 열 업데이트\n",
    "for idx, e in enumerate(texts_list):\n",
    "    df.at[idx, '본문'] = e\n",
    "\n",
    "# 결과 출력\n",
    "print(df)\n"
   ]
  },
  {
   "cell_type": "code",
   "execution_count": 51,
   "metadata": {},
   "outputs": [
    {
     "name": "stderr",
     "output_type": "stream",
     "text": [
      "/home/pjh/work-space/ACIN_classification_militaryNews_app/lib/python3.12/site-packages/openpyxl/styles/stylesheet.py:237: UserWarning: Workbook contains no default style, apply openpyxl's default\n",
      "  warn(\"Workbook contains no default style, apply openpyxl's default\")\n"
     ]
    },
    {
     "data": {
      "text/html": [
       "<div>\n",
       "<style scoped>\n",
       "    .dataframe tbody tr th:only-of-type {\n",
       "        vertical-align: middle;\n",
       "    }\n",
       "\n",
       "    .dataframe tbody tr th {\n",
       "        vertical-align: top;\n",
       "    }\n",
       "\n",
       "    .dataframe thead th {\n",
       "        text-align: right;\n",
       "    }\n",
       "</style>\n",
       "<table border=\"1\" class=\"dataframe\">\n",
       "  <thead>\n",
       "    <tr style=\"text-align: right;\">\n",
       "      <th></th>\n",
       "      <th>title</th>\n",
       "      <th>본문</th>\n",
       "      <th>URL</th>\n",
       "      <th>predictions</th>\n",
       "    </tr>\n",
       "  </thead>\n",
       "  <tbody>\n",
       "    <tr>\n",
       "      <th>0</th>\n",
       "      <td>해군교육사령부 전투무장학교 부사관 성금</td>\n",
       "      <td>진해 해군교육사령부 전투무장학교 부사관들이 새해를 맞아 10일 이웃나눔을 실천했다....</td>\n",
       "      <td>https://www.idomin.com/news/articleView.html?i...</td>\n",
       "      <td>1</td>\n",
       "    </tr>\n",
       "    <tr>\n",
       "      <th>1</th>\n",
       "      <td>군 검찰, 박정훈 대령 무죄에 항소 군인권센터 “항소는 범죄”</td>\n",
       "      <td>국방부 검찰단(군 검찰단)이 ‘채 상병 순직 사건’의 경찰 이첩 보류 명령을 따르지...</td>\n",
       "      <td>http://www.hani.co.kr/arti/politics/defense/11...</td>\n",
       "      <td>1</td>\n",
       "    </tr>\n",
       "    <tr>\n",
       "      <th>2</th>\n",
       "      <td>대구시 “군부대 이전지 3월쯤 결정 예상”</td>\n",
       "      <td>[KBS 대구]\\n대구 도심 군부대 통합 이전지가 애초 계획보다 석달 가량 늦춰진 ...</td>\n",
       "      <td>https://news.kbs.co.kr/news/view.do?ncd=815130...</td>\n",
       "      <td>1</td>\n",
       "    </tr>\n",
       "  </tbody>\n",
       "</table>\n",
       "</div>"
      ],
      "text/plain": [
       "                                title  \\\n",
       "0               해군교육사령부 전투무장학교 부사관 성금   \n",
       "1  군 검찰, 박정훈 대령 무죄에 항소 군인권센터 “항소는 범죄”   \n",
       "2             대구시 “군부대 이전지 3월쯤 결정 예상”   \n",
       "\n",
       "                                                  본문  \\\n",
       "0  진해 해군교육사령부 전투무장학교 부사관들이 새해를 맞아 10일 이웃나눔을 실천했다....   \n",
       "1  국방부 검찰단(군 검찰단)이 ‘채 상병 순직 사건’의 경찰 이첩 보류 명령을 따르지...   \n",
       "2  [KBS 대구]\\n대구 도심 군부대 통합 이전지가 애초 계획보다 석달 가량 늦춰진 ...   \n",
       "\n",
       "                                                 URL  predictions  \n",
       "0  https://www.idomin.com/news/articleView.html?i...            1  \n",
       "1  http://www.hani.co.kr/arti/politics/defense/11...            1  \n",
       "2  https://news.kbs.co.kr/news/view.do?ncd=815130...            1  "
      ]
     },
     "execution_count": 51,
     "metadata": {},
     "output_type": "execute_result"
    }
   ],
   "source": [
    "result_title2 = classificatin_titles(extract_title_text_url('/home/pjh/Downloads/NewsResult_20250113-20250113.xlsx'))\n",
    " # 1부터 시작하여 총 개수까지 index 재배열\n",
    "result_title2.index = range(len(result_title))\n",
    "result_title2"
   ]
  },
  {
   "cell_type": "code",
   "execution_count": 52,
   "metadata": {},
   "outputs": [
    {
     "data": {
      "text/plain": [
       "[\"진해 해군교육사령부 전투무장학교 부사관들이 새해를 맞아 10일 이웃나눔을 실천했다. 이날 무장학부 교관 심정환ㆍ이윤재 상사는 '2024년 전투발전제안'에서 받은 포상금 60만 원을 창원시 진해구 아동복지센터 공동생활가정 '꿈놀이터그룹홈'에 기부했다. \\n\\n/문정민 기자\",\n",
       " '국방부 검찰단(군 검찰단)이 ‘채 상병 순직 사건’의 경찰 이첩 보류 명령을 따르지 않은 혐의(항명) 등으로 기소된 박정훈 전 해병대 수사단장(대령)이 최근 1심에서 무죄 선고를 받은 것을 받아들일 수 없다며 항소했다. 시민단체 군인권센터는 “항소는 곧 범죄”라며 강하게 비판했다.\\n군 검찰단은 13일 “박 대령에 대한 중앙지역군사법원(군사법원)의 1심 ..',\n",
       " '[KBS 대구]\\n대구 도심 군부대 통합 이전지가 애초 계획보다 석달 가량 늦춰진 3월쯤 결정될 것으로 전망됩니다.\\n\\n대구시는 계엄 사태 이후 장관 구속기소 등으로 국방부의 예비후보지 선정 절차가 지연되고 있다며 실무 평가는 대부분 마무리된 만큼 다음 달쯤 발표할 것으로 안다고 밝혔습니다.\\n\\n그러면서 국방부가 예비 후보지를 발표하면 5, 6주가량 사업성 ..']"
      ]
     },
     "execution_count": 52,
     "metadata": {},
     "output_type": "execute_result"
    }
   ],
   "source": [
    "news_text_list2 = result_title2['본문'].to_list()\n",
    "\n",
    "   \n",
    "news_text_list2\n"
   ]
  },
  {
   "cell_type": "code",
   "execution_count": 35,
   "metadata": {},
   "outputs": [],
   "source": [
    "alist = ['a', 'b', 'c']\n",
    "\n",
    "for idx, e in enumerate(alist):\n",
    "    result_title2.at[idx, '본문'] = e"
   ]
  },
  {
   "cell_type": "code",
   "execution_count": 36,
   "metadata": {},
   "outputs": [
    {
     "data": {
      "text/html": [
       "<div>\n",
       "<style scoped>\n",
       "    .dataframe tbody tr th:only-of-type {\n",
       "        vertical-align: middle;\n",
       "    }\n",
       "\n",
       "    .dataframe tbody tr th {\n",
       "        vertical-align: top;\n",
       "    }\n",
       "\n",
       "    .dataframe thead th {\n",
       "        text-align: right;\n",
       "    }\n",
       "</style>\n",
       "<table border=\"1\" class=\"dataframe\">\n",
       "  <thead>\n",
       "    <tr style=\"text-align: right;\">\n",
       "      <th></th>\n",
       "      <th>title</th>\n",
       "      <th>본문</th>\n",
       "      <th>URL</th>\n",
       "      <th>predictions</th>\n",
       "    </tr>\n",
       "  </thead>\n",
       "  <tbody>\n",
       "    <tr>\n",
       "      <th>0</th>\n",
       "      <td>해군교육사령부 전투무장학교 부사관 성금</td>\n",
       "      <td>a</td>\n",
       "      <td>https://www.idomin.com/news/articleView.html?i...</td>\n",
       "      <td>1</td>\n",
       "    </tr>\n",
       "    <tr>\n",
       "      <th>1</th>\n",
       "      <td>군 검찰, 박정훈 대령 무죄에 항소 군인권센터 “항소는 범죄”</td>\n",
       "      <td>b</td>\n",
       "      <td>http://www.hani.co.kr/arti/politics/defense/11...</td>\n",
       "      <td>1</td>\n",
       "    </tr>\n",
       "    <tr>\n",
       "      <th>2</th>\n",
       "      <td>대구시 “군부대 이전지 3월쯤 결정 예상”</td>\n",
       "      <td>c</td>\n",
       "      <td>https://news.kbs.co.kr/news/view.do?ncd=815130...</td>\n",
       "      <td>1</td>\n",
       "    </tr>\n",
       "  </tbody>\n",
       "</table>\n",
       "</div>"
      ],
      "text/plain": [
       "                                title 본문  \\\n",
       "0               해군교육사령부 전투무장학교 부사관 성금  a   \n",
       "1  군 검찰, 박정훈 대령 무죄에 항소 군인권센터 “항소는 범죄”  b   \n",
       "2             대구시 “군부대 이전지 3월쯤 결정 예상”  c   \n",
       "\n",
       "                                                 URL  predictions  \n",
       "0  https://www.idomin.com/news/articleView.html?i...            1  \n",
       "1  http://www.hani.co.kr/arti/politics/defense/11...            1  \n",
       "2  https://news.kbs.co.kr/news/view.do?ncd=815130...            1  "
      ]
     },
     "execution_count": 36,
     "metadata": {},
     "output_type": "execute_result"
    }
   ],
   "source": [
    "result_title2"
   ]
  },
  {
   "cell_type": "code",
   "execution_count": 14,
   "metadata": {},
   "outputs": [
    {
     "name": "stdout",
     "output_type": "stream",
     "text": [
      "                                                  본문\n",
      "0  진해 해군교육사령부 전투무장학교 부사관들이 새해를 맞아 10일 이웃나눔을 실천했다....\n",
      "1  국방부 검찰단(군 검찰단)이 ‘채 상병 순직 사건’의 경찰 이첩 보류 명령을 따르지...\n",
      "2  [KBS 대구]\\n대구 도심 군부대 통합 이전지가 애초 계획보다 석달 가량 늦춰진 ...\n"
     ]
    }
   ],
   "source": [
    "import pandas as pd\n",
    "\n",
    "# 예제 DataFrame 생성\n",
    "data = {'본문': ['원래 내용1', '원래 내용2', '원래 내용3']}\n",
    "df = pd.DataFrame(data)\n",
    "\n",
    "# 업데이트할 내용이 담긴 리스트\n",
    "texts_list = [\"새로운 내용1\", \"새로운 내용2\", \"새로운 내용3\"]\n",
    "\n",
    "# 반복문을 사용하여 DataFrame의 \"본문\" 열 업데이트\n",
    "for idx, e in enumerate(news_text_list2):\n",
    "    df.at[idx, '본문'] = e\n",
    "\n",
    "# 결과 출력\n",
    "print(df)"
   ]
  },
  {
   "cell_type": "code",
   "execution_count": 54,
   "metadata": {},
   "outputs": [
    {
     "name": "stdout",
     "output_type": "stream",
     "text": [
      "진해 해군교육사령부 전투무장학교 부사관들이 새해를 맞아 이웃나눔을 실천했다. 무장학부 교관 심정환ᆞ이윤재 상사는 포상금 60만 원을 창원시 진해구 아동복지센터 공동생활가정 '꿈놀이터그룹홈'에 기부했다.      \n",
      "    \n",
      " \n",
      "국방부 검찰단이 ‘채 상병 순직 사건’의 경찰 이첩 보류 명령을 따르지 않은 혐의 등으로 기소된 박정훈 전 해병대 수사단장(대령)이 최근 1심에서 무죄 선고를 받은 것을 받아들일 수 없다며 항소하자 시민단체 군인권센터는 “항소는 곧 범죄”라며 강하게 비판했다.      \n",
      "    \n",
      " \n",
      "대구 도심 군부대 통합 이전지가 3월쯤 결정될 것으로 전망된다. 대구시는 계엄 사태 이후 국방부의 예비후보지 선정 절차가 지연되고 있다며 실무 평가는 마무리된 만큼 발표할 것으로 안다고 밝혔다.     .     \n",
      "   ....    ...   ......    \n"
     ]
    },
    {
     "data": {
      "text/html": [
       "<div>\n",
       "<style scoped>\n",
       "    .dataframe tbody tr th:only-of-type {\n",
       "        vertical-align: middle;\n",
       "    }\n",
       "\n",
       "    .dataframe tbody tr th {\n",
       "        vertical-align: top;\n",
       "    }\n",
       "\n",
       "    .dataframe thead th {\n",
       "        text-align: right;\n",
       "    }\n",
       "</style>\n",
       "<table border=\"1\" class=\"dataframe\">\n",
       "  <thead>\n",
       "    <tr style=\"text-align: right;\">\n",
       "      <th></th>\n",
       "      <th>title</th>\n",
       "      <th>본문</th>\n",
       "      <th>URL</th>\n",
       "      <th>predictions</th>\n",
       "    </tr>\n",
       "  </thead>\n",
       "  <tbody>\n",
       "    <tr>\n",
       "      <th>0</th>\n",
       "      <td>해군교육사령부 전투무장학교 부사관 성금</td>\n",
       "      <td>None</td>\n",
       "      <td>https://www.idomin.com/news/articleView.html?i...</td>\n",
       "      <td>1</td>\n",
       "    </tr>\n",
       "    <tr>\n",
       "      <th>1</th>\n",
       "      <td>군 검찰, 박정훈 대령 무죄에 항소 군인권센터 “항소는 범죄”</td>\n",
       "      <td>None</td>\n",
       "      <td>http://www.hani.co.kr/arti/politics/defense/11...</td>\n",
       "      <td>1</td>\n",
       "    </tr>\n",
       "    <tr>\n",
       "      <th>2</th>\n",
       "      <td>대구시 “군부대 이전지 3월쯤 결정 예상”</td>\n",
       "      <td>None</td>\n",
       "      <td>https://news.kbs.co.kr/news/view.do?ncd=815130...</td>\n",
       "      <td>1</td>\n",
       "    </tr>\n",
       "  </tbody>\n",
       "</table>\n",
       "</div>"
      ],
      "text/plain": [
       "                                title    본문  \\\n",
       "0               해군교육사령부 전투무장학교 부사관 성금  None   \n",
       "1  군 검찰, 박정훈 대령 무죄에 항소 군인권센터 “항소는 범죄”  None   \n",
       "2             대구시 “군부대 이전지 3월쯤 결정 예상”  None   \n",
       "\n",
       "                                                 URL  predictions  \n",
       "0  https://www.idomin.com/news/articleView.html?i...            1  \n",
       "1  http://www.hani.co.kr/arti/politics/defense/11...            1  \n",
       "2  https://news.kbs.co.kr/news/view.do?ncd=815130...            1  "
      ]
     },
     "execution_count": 54,
     "metadata": {},
     "output_type": "execute_result"
    }
   ],
   "source": [
    "for idx, e in enumerate(news_text_list2):\n",
    "    result_title2.at[idx, '본문'] = newSum(e)\n",
    "           \n",
    "result_title2"
   ]
  }
 ],
 "metadata": {
  "kernelspec": {
   "display_name": "ACIN_classification_militaryNews_app",
   "language": "python",
   "name": "python3"
  },
  "language_info": {
   "codemirror_mode": {
    "name": "ipython",
    "version": 3
   },
   "file_extension": ".py",
   "mimetype": "text/x-python",
   "name": "python",
   "nbconvert_exporter": "python",
   "pygments_lexer": "ipython3",
   "version": "3.12.4"
  }
 },
 "nbformat": 4,
 "nbformat_minor": 2
}
